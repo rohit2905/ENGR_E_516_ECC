{
 "cells": [
  {
   "cell_type": "markdown",
   "id": "65fa333f-37c0-4883-bc2a-8df83ac89ab3",
   "metadata": {},
   "source": [
    "<center>\n",
    "    \n",
    "# ENGR-E:516 Engineering Cloud Computing\n",
    "## Assignment - 2\n",
    "### Rohit Goud Kalakuntla\n",
    "### email: rokala@iu.edu\n",
    "\n",
    "</center>"
   ]
  },
  {
   "cell_type": "code",
   "execution_count": 144,
   "id": "1ae40f70-67a7-4195-8458-760cfdfa9638",
   "metadata": {},
   "outputs": [],
   "source": [
    "# importing pyspark and other required libraries\n",
    "import pyspark\n",
    "# Importing all the required libraries\n",
    "import scipy\n",
    "import numpy as np\n",
    "import pandas as pd"
   ]
  },
  {
   "cell_type": "code",
   "execution_count": 145,
   "id": "f2f9446a-77df-4a0b-ba1c-067d6b2fa8e4",
   "metadata": {},
   "outputs": [
    {
     "name": "stdout",
     "output_type": "stream",
     "text": [
      "Requirement already satisfied: findspark in /opt/conda/lib/python3.11/site-packages (2.0.1)\n"
     ]
    }
   ],
   "source": [
    "# findspark is a python library: Provides findspark.init() to make pyspark importable as a regular library.\n",
    "!pip install findspark"
   ]
  },
  {
   "cell_type": "code",
   "execution_count": 146,
   "id": "fe8c7128-6b0d-4fb0-b57f-47788c627893",
   "metadata": {},
   "outputs": [],
   "source": [
    "# importing findspark and initializing it for usage of pyspark\n",
    "import findspark\n",
    "findspark.init()"
   ]
  },
  {
   "cell_type": "code",
   "execution_count": 147,
   "id": "7ff87940-39e4-401b-b147-2a079abaa17c",
   "metadata": {},
   "outputs": [],
   "source": [
    "# importing other pyspark modules\n",
    "# pyspark sqp modules\n",
    "from pyspark.sql import functions as pysf, SparkSession, Row\n",
    "from pyspark.sql.window import Window\n",
    "from pyspark.sql.functions import desc, when, count, col, sum,expr, avg, first\n",
    "from pyspark.sql.types import IntegerType\n",
    "\n",
    "# pyspark ML modules\n",
    "from pyspark.ml.clustering import KMeans\n",
    "from pyspark.ml.feature import VectorAssembler\n",
    "\n",
    "from functools import reduce"
   ]
  },
  {
   "cell_type": "code",
   "execution_count": 148,
   "id": "cbd99fe7-17d7-4963-8581-0b13cb3e97ad",
   "metadata": {},
   "outputs": [],
   "source": [
    "# Creating Spark Session with the name 'ECC Assignment 2'\n",
    "# Allocating for 3 cores\n",
    "# using 3 cores to run the application using parallel processing which can be utilized by multinode cluster\n",
    "spark = SparkSession.builder.master(\"local[3]\").appName(\"rokala - ECC Assignment 2\").getOrCreate()"
   ]
  },
  {
   "cell_type": "code",
   "execution_count": 149,
   "id": "34b44bd1-3283-4594-a110-c9d346d15505",
   "metadata": {},
   "outputs": [],
   "source": [
    "# Loading the Parking_Violations_Issued_-_Fiscal_Year_2024_20240411.csv\n",
    "# Renamed file: NYC_Parking_Violations.csv\n",
    "df = spark.read.csv(\"NYC_Parking_Violations.csv\", header=True, inferSchema= True)"
   ]
  },
  {
   "cell_type": "code",
   "execution_count": 150,
   "id": "5847ae34-79a8-4922-930c-0c7c110ebd91",
   "metadata": {},
   "outputs": [
    {
     "name": "stdout",
     "output_type": "stream",
     "text": [
      "root\n",
      " |-- Summons Number: long (nullable = true)\n",
      " |-- Plate ID: string (nullable = true)\n",
      " |-- Registration State: string (nullable = true)\n",
      " |-- Plate Type: string (nullable = true)\n",
      " |-- Issue Date: string (nullable = true)\n",
      " |-- Violation Code: integer (nullable = true)\n",
      " |-- Vehicle Body Type: string (nullable = true)\n",
      " |-- Vehicle Make: string (nullable = true)\n",
      " |-- Issuing Agency: string (nullable = true)\n",
      " |-- Street Code1: integer (nullable = true)\n",
      " |-- Street Code2: integer (nullable = true)\n",
      " |-- Street Code3: integer (nullable = true)\n",
      " |-- Vehicle Expiration Date: integer (nullable = true)\n",
      " |-- Violation Location: integer (nullable = true)\n",
      " |-- Violation Precinct: integer (nullable = true)\n",
      " |-- Issuer Precinct: integer (nullable = true)\n",
      " |-- Issuer Code: integer (nullable = true)\n",
      " |-- Issuer Command: string (nullable = true)\n",
      " |-- Issuer Squad: string (nullable = true)\n",
      " |-- Violation Time: string (nullable = true)\n",
      " |-- Time First Observed: string (nullable = true)\n",
      " |-- Violation County: string (nullable = true)\n",
      " |-- Violation In Front Of Or Opposite: string (nullable = true)\n",
      " |-- House Number: string (nullable = true)\n",
      " |-- Street Name: string (nullable = true)\n",
      " |-- Intersecting Street: string (nullable = true)\n",
      " |-- Date First Observed: integer (nullable = true)\n",
      " |-- Law Section: integer (nullable = true)\n",
      " |-- Sub Division: string (nullable = true)\n",
      " |-- Violation Legal Code: string (nullable = true)\n",
      " |-- Days Parking In Effect    : string (nullable = true)\n",
      " |-- From Hours In Effect: string (nullable = true)\n",
      " |-- To Hours In Effect: string (nullable = true)\n",
      " |-- Vehicle Color: string (nullable = true)\n",
      " |-- Unregistered Vehicle?: integer (nullable = true)\n",
      " |-- Vehicle Year: integer (nullable = true)\n",
      " |-- Meter Number: string (nullable = true)\n",
      " |-- Feet From Curb: integer (nullable = true)\n",
      " |-- Violation Post Code: string (nullable = true)\n",
      " |-- Violation Description: string (nullable = true)\n",
      " |-- No Standing or Stopping Violation: string (nullable = true)\n",
      " |-- Hydrant Violation: string (nullable = true)\n",
      " |-- Double Parking Violation: string (nullable = true)\n",
      "\n"
     ]
    }
   ],
   "source": [
    "# printing schems details\n",
    "df.printSchema()"
   ]
  },
  {
   "cell_type": "code",
   "execution_count": 151,
   "id": "fc57dadb-cb1b-43cc-b1d9-a089decb8881",
   "metadata": {},
   "outputs": [
    {
     "name": "stdout",
     "output_type": "stream",
     "text": [
      "+--------------+--------+------------------+----------+----------+--------------+-----------------+------------+--------------+------------+------------+------------+-----------------------+------------------+------------------+---------------+-----------+--------------+------------+--------------+-------------------+----------------+---------------------------------+------------+------------------+-------------------+-------------------+-----------+------------+--------------------+--------------------------+--------------------+------------------+-------------+---------------------+------------+------------+--------------+-------------------+---------------------+---------------------------------+-----------------+------------------------+\n",
      "|Summons Number|Plate ID|Registration State|Plate Type|Issue Date|Violation Code|Vehicle Body Type|Vehicle Make|Issuing Agency|Street Code1|Street Code2|Street Code3|Vehicle Expiration Date|Violation Location|Violation Precinct|Issuer Precinct|Issuer Code|Issuer Command|Issuer Squad|Violation Time|Time First Observed|Violation County|Violation In Front Of Or Opposite|House Number|       Street Name|Intersecting Street|Date First Observed|Law Section|Sub Division|Violation Legal Code|Days Parking In Effect    |From Hours In Effect|To Hours In Effect|Vehicle Color|Unregistered Vehicle?|Vehicle Year|Meter Number|Feet From Curb|Violation Post Code|Violation Description|No Standing or Stopping Violation|Hydrant Violation|Double Parking Violation|\n",
      "+--------------+--------+------------------+----------+----------+--------------+-----------------+------------+--------------+------------+------------+------------+-----------------------+------------------+------------------+---------------+-----------+--------------+------------+--------------+-------------------+----------------+---------------------------------+------------+------------------+-------------------+-------------------+-----------+------------+--------------------+--------------------------+--------------------+------------------+-------------+---------------------+------------+------------+--------------+-------------------+---------------------+---------------------------------+-----------------+------------------------+\n",
      "|    1159637337| KZH2758|                NY|       PAS|06/09/2023|            67|              VAN|       HONDA|             P|           0|           0|           0|               20250201|                43|                43|             43|     972773|          0043|        0000|         0911A|               NULL|              BX|                             NULL|        NULL|    I/O TAYLOR AVE|           GUERLAIN|                  0|        408|          E5|                NULL|                   BBBBBBB|                 ALL|               ALL|         BLUE|                    0|        2006|           -|             0|               NULL|                 NULL|                             NULL|             NULL|                    NULL|\n",
      "|    1252960645| JPD8746|                NY|       PAS|06/30/2023|            87|             SUBN|       LINCO|             M|       17870|       25390|       32670|               20240210|                14|                14|            968|     271057|          0968|        0000|         0717A|               NULL|              NY|                                O|          51|         E 44TH ST|               NULL|                  0|        408|           D|                NULL|                   BBBBBBB|                 ALL|               ALL|         GRAY|                    0|        2020|           -|             0|               NULL|                 NULL|                             NULL|             NULL|                    NULL|\n",
      "|    1252960669| JPD8746|                NY|       PAS|06/30/2023|            31|             SUBN|       LINCO|             M|       17870|       25390|       32670|               20240210|                14|                14|            968|     271057|          0968|        0000|         0823A|               NULL|            NULL|                                O|          51|     E 44TH STREET|               NULL|                  0|        408|          O3|                NULL|                   BBBBBBB|                 ALL|               ALL|         GRAY|                    0|        2020|           -|             0|               NULL|                 NULL|                             NULL|             NULL|                    NULL|\n",
      "|    1252994126| MBH9245|                99|       PAS|07/06/2023|            20|              SDN|         KIA|             M|       12690|       41700|       61090|               20231231|               108|               108|            968|     272834|          0968|        0000|         1150P|               NULL|            NULL|                                F|       39-41|           60TH ST|               NULL|                  0|        408|           D|                NULL|                   BBBBBBB|                 ALL|               ALL|        WHITE|                    0|           0|           -|             0|               NULL|                 NULL|                             NULL|             NULL|                    NULL|\n",
      "|    1252994175| MBH9245|                PA|       PAS|07/08/2023|            40|              SDN|         KIA|             M|       12690|       41700|       61090|               20231231|               108|               108|            968|     272834|          0968|        0000|         1150P|               NULL|               Q|                                F|       39-41|           60TH ST|               NULL|                  0|        408|           D|                NULL|                   BBBBBBB|                 ALL|               ALL|        WHITE|                    0|           0|           -|             0|               NULL|                 NULL|                             NULL|             NULL|                    NULL|\n",
      "|    1307574919| LBZ7486|                NY|       PAS|07/01/2023|            14|             SUBN|       HONDA|             P|           0|           0|           0|               20250518|               110|               110|            169|     947343|          0169|        0000|         0618P|               NULL|               Q|                             NULL|        NULL|        C/O 126 ST|             38 AVE|                  0|        408|          E2|                NULL|                   BBBBBBB|                 ALL|               ALL|           BK|                    0|        2014|           -|             0|               NULL|                 NULL|                             NULL|             NULL|                    NULL|\n",
      "|    1307574944| JRB4166|                FL|       PAS|06/07/2023|            46|             SUBN|       HONDA|             P|        8690|       21690|       21740|               20240312|               110|               110|            169|     947343|          0169|        0000|         0246P|               NULL|               Q|                                F|      126 05|            36 AVE|               NULL|                  0|        408|          C3|                NULL|                   BBBBBBB|                 ALL|               ALL|         NULL|                    0|           0|           -|             0|               NULL|                 NULL|                             NULL|             NULL|                    NULL|\n",
      "|    1307575950|LCA7360J|                NY|       PAS|06/21/2023|            46|             SUBN|       HONDA|             P|           0|       61090|           0|               20250430|               110|               110|            169|     969119|          0169|        0000|         0620P|               NULL|               Q|                             NULL|        NULL|       STADIUM P N|      ROOSEVELT AVE|                  0|        408|          F2|                NULL|                   BBBBBBB|                 ALL|               ALL|          GRY|                    0|        2015|           -|             0|               NULL|                 NULL|                             NULL|             NULL|                    NULL|\n",
      "|    1307575973| HNE3840|                NY|       PAS|06/21/2023|            14|              SDN|       MAZDA|             P|           0|           0|           0|               20250221|               110|               110|            169|     969119|          0169|        0000|         0625P|               NULL|               Q|                             NULL|        NULL|       STADIUM P N|          ROOSEVELT|                  0|        408|           C|                NULL|                   BBBBBBB|                 ALL|               ALL|          WHT|                    0|        2020|           -|             0|               NULL|                 NULL|                             NULL|             NULL|                    NULL|\n",
      "|    1307576886| LAG7093|                NY|       OMT|06/03/2023|            46|              SDN|       HONDA|             P|           0|       40404|       40404|               20250129|               110|               110|            110|     961387|          0110|        0000|         0230P|               NULL|               Q|                                F|          41|        SEAVER WAY|               NULL|                  0|        408|          F7|                NULL|                   BBBBBBB|                 ALL|               ALL|         BLUE|                    0|        2006|           -|             0|               NULL|                 NULL|                             NULL|             NULL|                    NULL|\n",
      "|    1326049732| KXG5820|                NY|       PAS|07/03/2023|            14|              SDN|       HONDA|             P|       59590|        9440|           0|               20240428|               109|               109|            109|     975295|          0109|        0000|         0834P|               NULL|               Q|                             NULL|        NULL|     PRINCE STREET|            40 ROAD|                  0|        408|          E2|                NULL|                   BBBBBBB|                 ALL|               ALL|         GREY|                    0|        2007|           -|             0|               NULL|                 NULL|                             NULL|             NULL|                    NULL|\n",
      "|    1326051532| KKX4930|                NY|       PAS|06/29/2023|            50|              SDN|       HONDA|             P|       37890|       51290|       51895|               20250426|               109|               109|            109|     969896|          0109|        0000|         0439P|              0435P|               Q|                                O|       46-50|    BURLING STREET|               NULL|                  0|        408|          E2|                NULL|                   BBBBBBB|                 ALL|               ALL|        WHITE|                    0|        2013|           -|             0|               NULL|                 NULL|                             NULL|             NULL|                    NULL|\n",
      "|    1326051740| LCV1407|                NY|       PAS|06/29/2023|            98|             SUBN|       TOYOT|             P|       24090|       10290|       52490|               20250619|               109|               109|            109|     959549|          0109|        0000|         0629P|               NULL|               Q|                                F|       46-08|            161 ST|               NULL|                  0|        408|          E5|                NULL|                   BBBBBBB|                 ALL|               ALL|          BLK|                    0|        2008|           -|             0|               NULL|                 NULL|                             NULL|             NULL|                    NULL|\n",
      "|    1326051787| KWG4794|                NY|       PAS|06/29/2023|            40|              SDN|         KIA|             P|       23840|       57790|       42120|               20240910|               109|               109|            109|     959549|          0109|        0000|         1150P|               NULL|               Q|                                F|       40-22|            158 ST|               NULL|                  0|        408|          K6|                NULL|                   BBBBBBB|                 ALL|               ALL|          RED|                    0|        2021|           -|             0|               NULL|                 NULL|                             NULL|             NULL|                    NULL|\n",
      "|    1326051799| GTK9218|                NY|       PAS|06/30/2023|            98|              SDN|       VOLKS|             P|       28940|        9690|       57790|               20240928|               109|               109|            109|     959549|          0109|        0000|         0600P|               NULL|               Q|                                F|       42-26|     AUBURNDALE LN|               NULL|                  0|        408|          E2|                NULL|                   BBBBBBB|                 ALL|               ALL|         GOLD|                    0|        2012|           -|             0|               NULL|                 NULL|                             NULL|             NULL|                    NULL|\n",
      "|    1326051817|HTM79881|                NY|       PAS|06/30/2023|            21|             SUBN|       TOYOT|             P|       21790|        5940|           0|               20230910|               109|               109|            109|     959549|          0109|        0000|         0634P|               NULL|               Q|                             NULL|        NULL|            128 ST|             14 AVE|                  0|        408|          D1|                NULL|                   BBBBBBB|                 ALL|               ALL|         BLUE|                    0|        2006|           -|             0|               NULL|                 NULL|                             NULL|             NULL|                    NULL|\n",
      "|    1326051842|  JD32DX|                FL|       PAS|06/30/2023|             6|             TRUC|       VOLVO|             P|       36400|       24240|       46090|               20231031|               109|               109|            109|     959549|          0109|        0000|         0933P|               NULL|            NULL|                                O|      172-00|BOOTH MEMORIAL AVE|               NULL|                  0|        408|          E2|                NULL|                   BBBBBBB|                 ALL|               ALL|         NULL|                    0|           0|           -|             0|               NULL|                 NULL|                             NULL|             NULL|                    NULL|\n",
      "|    1326051880| LAV8331|                NY|       PAS|06/30/2023|            98|             SUBN|       LEXUS|             P|        8440|       65490|       58590|               20250313|               109|               109|            109|     959549|          0109|        0000|         1010P|               NULL|               Q|                                F|      140-84|            34 AVE|               NULL|                  0|        408|          K6|                NULL|                   BBBBBBB|                 ALL|               ALL|          BLK|                    0|        2009|           -|             0|               NULL|                 NULL|                             NULL|             NULL|                    NULL|\n",
      "|    1326051945| JRV6573|                NY|       PAS|06/26/2023|            40|             SUBN|       ACURA|             P|        6190|       23090|       23190|               20240531|               109|               109|            109|     951887|          0109|        0000|         1029A|               NULL|               Q|                                F|      147-63|            18 AVE|               NULL|                  0|        408|          F2|                NULL|                   BBBBBBB|                 ALL|               ALL|           WH|                    0|        2020|           -|             0|               NULL|                 NULL|                             NULL|             NULL|                    NULL|\n",
      "|    1326051957| JLF9909|                NY|       PAS|06/26/2023|            14|              SDN|        AUDI|             P|        8590|       53390|       65490|               20250718|               109|               109|            109|     951887|          0109|        0000|         1125A|               NULL|               Q|                                F|      138-11|            35 AVE|               NULL|                  0|        408|          E2|                NULL|                   BBBBBBB|                 ALL|               ALL|           RD|                    0|        2010|           -|             0|               NULL|                 NULL|                             NULL|             NULL|                    NULL|\n",
      "+--------------+--------+------------------+----------+----------+--------------+-----------------+------------+--------------+------------+------------+------------+-----------------------+------------------+------------------+---------------+-----------+--------------+------------+--------------+-------------------+----------------+---------------------------------+------------+------------------+-------------------+-------------------+-----------+------------+--------------------+--------------------------+--------------------+------------------+-------------+---------------------+------------+------------+--------------+-------------------+---------------------+---------------------------------+-----------------+------------------------+\n",
      "only showing top 20 rows\n",
      "\n"
     ]
    }
   ],
   "source": [
    "# dispalying first 20 rows of dta from the dataset including the headers\n",
    "df.show()"
   ]
  },
  {
   "cell_type": "code",
   "execution_count": 152,
   "id": "44143a1f-f779-4787-b56f-fa3461094c20",
   "metadata": {},
   "outputs": [
    {
     "name": "stdout",
     "output_type": "stream",
     "text": [
      "Shape of the dataset: (10717482, 43)\n"
     ]
    }
   ],
   "source": [
    "# Get the number of rows and columns\n",
    "num_rows, num_cols = df.count(), len(df.columns)\n",
    "\n",
    "# Print the shape (number of rows, number of columns)\n",
    "print(\"Shape of the dataset:\", (num_rows, num_cols))"
   ]
  },
  {
   "cell_type": "code",
   "execution_count": 153,
   "id": "6f5cd4de-7f96-45bf-a554-b1663fbdf239",
   "metadata": {},
   "outputs": [
    {
     "name": "stdout",
     "output_type": "stream",
     "text": [
      "Cleaning & Processing the data in the node rokala-manager...\n",
      "Cleaning & Processing the data in the node rokala-worker1...\n",
      "Cleaning & Processing the data in the node rokala-worker2...\n"
     ]
    }
   ],
   "source": [
    "# Enter the number of nodes\n",
    "# 3: manager, worker1 and worker2\n",
    "nodes = 3 \n",
    "node_dict ={0:\"rokala-manager\", 1:\"rokala-worker1\", 2:\"rokala-worker2\"}\n",
    "data_in_node = [df.columns[i::nodes] for i in range(nodes)]\n",
    "\n",
    "nulls_in_node = []\n",
    "for i, columns in enumerate(data_in_node):\n",
    "    print(f\"Cleaning & Processing the data in the node {node_dict.get(i)}...\")\n",
    "    # selecting all the null values and making a count in each node\n",
    "    nulls = df.select([count(when(col(c).isNull(), c)).alias(c) for c in columns]).collect()\n",
    "    nulls_in_node.append(nulls)"
   ]
  },
  {
   "cell_type": "markdown",
   "id": "680b75d9-76a7-4893-ada2-3b81a6098d35",
   "metadata": {},
   "source": [
    "# NY Parking Violations\n",
    "\n",
    "## Question 1: \n",
    "\n",
    "### When are tickets most likely to be issued?"
   ]
  },
  {
   "cell_type": "code",
   "execution_count": 154,
   "id": "0dcea7f2-43d7-4876-841c-815ab872ecd9",
   "metadata": {},
   "outputs": [],
   "source": [
    "# View to use it for solving the questions\n",
    "df.createOrReplaceTempView(\"ny_data_view\")"
   ]
  },
  {
   "cell_type": "code",
   "execution_count": 155,
   "id": "737edc99-b051-4f1f-bc84-ee3b96db2b5d",
   "metadata": {},
   "outputs": [
    {
     "name": "stdout",
     "output_type": "stream",
     "text": [
      "+--------------+---------------+\n",
      "|Violation Time|Violation_Count|\n",
      "+--------------+---------------+\n",
      "|         0836A|          20112|\n",
      "|         0839A|          19531|\n",
      "|         0840A|          19436|\n",
      "|         0838A|          19433|\n",
      "|         0906A|          19412|\n",
      "|         1139A|          19255|\n",
      "|         1140A|          19154|\n",
      "|         1141A|          19135|\n",
      "|         0841A|          18987|\n",
      "|         1142A|          18936|\n",
      "|         1145A|          18917|\n",
      "|         0837A|          18893|\n",
      "|         0842A|          18806|\n",
      "|         1143A|          18738|\n",
      "|         0910A|          18698|\n",
      "+--------------+---------------+\n",
      "only showing top 15 rows\n",
      "\n"
     ]
    }
   ],
   "source": [
    "# Query to count number of violations at a particular time and arrange them in descending order\n",
    "q1 = spark.sql('''SELECT `Violation Time`, COUNT(*) AS Violation_Count FROM ny_data_view GROUP BY `Violation Time` ORDER BY Violation_Count DESC''')\n",
    "\n",
    "# showing only top 15 rows, because the data is huge\n",
    "q1.show(15)"
   ]
  },
  {
   "cell_type": "markdown",
   "id": "e6aaa93e-1794-49d1-be66-7e6f1fca1c91",
   "metadata": {},
   "source": [
    "## Question 2: \n",
    "\n",
    "### What are the most common years and types of cars to be ticketed?"
   ]
  },
  {
   "cell_type": "code",
   "execution_count": 156,
   "id": "2669dbb0-c59b-442c-b57b-439cc51de5ff",
   "metadata": {},
   "outputs": [
    {
     "name": "stdout",
     "output_type": "stream",
     "text": [
      "+------------+------------+---------------+\n",
      "|Vehicle Type|Vehicle Year|Violation Count|\n",
      "+------------+------------+---------------+\n",
      "|        SUBN|        2021|         468827|\n",
      "|        SUBN|        2022|         452375|\n",
      "|        SUBN|        2023|         447136|\n",
      "|        SUBN|        2019|         345019|\n",
      "|        SUBN|        2020|         343284|\n",
      "|        SUBN|        2018|         275701|\n",
      "|        SUBN|        2017|         226830|\n",
      "|        SUBN|        2016|         186232|\n",
      "|        SUBN|        2015|         180923|\n",
      "|        4DSD|        2017|         155318|\n",
      "|        4DSD|        2019|         152338|\n",
      "|        4DSD|        2018|         146010|\n",
      "|        SUBN|        2014|         142949|\n",
      "|        4DSD|        2020|         138040|\n",
      "|        4DSD|        2023|         134262|\n",
      "+------------+------------+---------------+\n",
      "only showing top 15 rows\n",
      "\n"
     ]
    }
   ],
   "source": [
    "# Spark Query to count the number of violations for different vehicle types in each vehicle year \n",
    "\n",
    "df1= spark.table(\"ny_data_view\")\n",
    "\n",
    "# Filter out records where Vehicle Body Type is NULL or Vehicle Year <= 0\n",
    "filtered_df = df1.filter((col(\"Vehicle Body Type\").isNotNull()) & (col(\"Vehicle Year\") > 0))\n",
    "\n",
    "# Perform the grouping and counting as per the SQL query\n",
    "q2 = filtered_df.groupBy(col(\"Vehicle Body Type\").alias(\"Vehicle Type\"), col(\"Vehicle Year\").cast(\"int\").alias(\"Vehicle Year\")) \\\n",
    "                       .agg(count(\"*\").alias(\"Violation Count\")) \\\n",
    "                       .orderBy(col(\"Violation Count\").desc())\n",
    "\n",
    "# Dispalying only top 15 records; whole ouput is huge\n",
    "q2.show(15)"
   ]
  },
  {
   "cell_type": "markdown",
   "id": "ddc99707-84df-41cf-9852-031bb327f3ad",
   "metadata": {},
   "source": [
    "## Question 3:\n",
    "\n",
    "### Where are tickets most commonly issued?"
   ]
  },
  {
   "cell_type": "code",
   "execution_count": 157,
   "id": "50510b9d-fff1-4b49-a5a4-1b191e7fabc2",
   "metadata": {},
   "outputs": [
    {
     "name": "stdout",
     "output_type": "stream",
     "text": [
      "+------------------+-----------------+\n",
      "|Violation Location|Number Of Tickets|\n",
      "+------------------+-----------------+\n",
      "|                19|           276203|\n",
      "|               114|           213205|\n",
      "|                 6|           207636|\n",
      "|                13|           189589|\n",
      "|                14|           178348|\n",
      "|               109|           153765|\n",
      "|                 1|           148286|\n",
      "|                18|           147809|\n",
      "|                 9|           142074|\n",
      "|               115|           135832|\n",
      "|                61|           116439|\n",
      "|                66|           115903|\n",
      "|                20|           115747|\n",
      "|               112|           109812|\n",
      "|                70|           107721|\n",
      "+------------------+-----------------+\n",
      "only showing top 15 rows\n",
      "\n"
     ]
    }
   ],
   "source": [
    "# Filter out records where Violation Location is null\n",
    "df_filtered = df1.filter(col(\"Violation Location\").isNotNull())\n",
    "\n",
    "# Group by Violation Location, count the violations, and order by count in descending order\n",
    "q3 = df_filtered.groupBy(\"Violation Location\") \\\n",
    "                              .count() \\\n",
    "                              .withColumnRenamed(\"count\", \"Number Of Tickets\") \\\n",
    "                              .orderBy(col(\"Number Of Tickets\").desc())\n",
    "\n",
    "# Show the top 15 violation locations\n",
    "q3.show(15)"
   ]
  },
  {
   "cell_type": "code",
   "execution_count": 158,
   "id": "d20e965a-0bdd-4df9-b3a4-01cd695da3dc",
   "metadata": {},
   "outputs": [
    {
     "name": "stdout",
     "output_type": "stream",
     "text": [
      "+------------------+-------------+-----------------+\n",
      "|Violation Location|  Street Name|Number Of Tickets|\n",
      "+------------------+-------------+-----------------+\n",
      "|                19|      3rd Ave|            32731|\n",
      "|                19|Lexington Ave|            24743|\n",
      "|               112|  Queens Blvd|            22994|\n",
      "|                19|  Madison Ave|            21856|\n",
      "|               114|  Steinway St|            21197|\n",
      "|               115|     37th Ave|            18517|\n",
      "|                19|      1st Ave|            17536|\n",
      "|                19|      2nd Ave|            16144|\n",
      "|               112|    Austin St|            15162|\n",
      "|                24|     Broadway|            14443|\n",
      "|               109|      Main St|            14125|\n",
      "|                20|     Broadway|            13894|\n",
      "|               102|  Jamaica Ave|            13250|\n",
      "|                 6|  Bleecker St|            12820|\n",
      "|               106|  Liberty Ave|            12639|\n",
      "+------------------+-------------+-----------------+\n",
      "only showing top 15 rows\n",
      "\n"
     ]
    }
   ],
   "source": [
    "# Filter out records where Violation Location is null\n",
    "df_filtered = df1.filter(col(\"Violation Location\").isNotNull())\n",
    "\n",
    "# Group by Violation Location, count the violations, and order by count in descending order\n",
    "q3 = df_filtered.groupBy(\"Violation Location\", \"Street Name\") \\\n",
    "                              .count() \\\n",
    "                              .withColumnRenamed(\"count\", \"Number Of Tickets\") \\\n",
    "                              .orderBy(col(\"Number Of Tickets\").desc())\n",
    "\n",
    "# Show the top 15 violation locations\n",
    "q3.show(15)"
   ]
  },
  {
   "cell_type": "markdown",
   "id": "c8479a87-4171-4ee0-a61c-8e0fe8fc758a",
   "metadata": {},
   "source": [
    "## Question 4:\n",
    "\n",
    "### **Which color of the vehicle is most likely to get a ticket?**\n",
    "\n",
    "#### *From below analysis, it is observed that the GY colored vehicle is most likely to be issued a ticket*"
   ]
  },
  {
   "cell_type": "code",
   "execution_count": 24,
   "id": "3b622298-b9f3-4a5b-accb-d1b3f6f2d42a",
   "metadata": {},
   "outputs": [
    {
     "name": "stdout",
     "output_type": "stream",
     "text": [
      "+-------------+--------------------+\n",
      "|Vehicle Color|Number Of Violations|\n",
      "+-------------+--------------------+\n",
      "|           GY|             2086345|\n",
      "|           WH|             1924600|\n",
      "|           BK|             1821705|\n",
      "|         NULL|             1015121|\n",
      "|           BL|              688919|\n",
      "|        WHITE|              610936|\n",
      "|        BLACK|              401993|\n",
      "|           RD|              393388|\n",
      "|         GREY|              303176|\n",
      "|         BLUE|              140721|\n",
      "|           GR|              134696|\n",
      "|        SILVE|              134375|\n",
      "|        BROWN|              129885|\n",
      "|          RED|              116436|\n",
      "|          BLK|               89406|\n",
      "|           TN|               70852|\n",
      "|           BR|               68616|\n",
      "|           YW|               65868|\n",
      "|          GRY|               64505|\n",
      "|          WHI|               54907|\n",
      "+-------------+--------------------+\n",
      "only showing top 20 rows\n",
      "\n",
      "The color of vehicle that is most likely to get a ticket is:  GY\n"
     ]
    }
   ],
   "source": [
    "# Group the data by `Vehicle Color`, count the occurrences, and sort the results by count in descending order\n",
    "q4 = df.groupBy(\"Vehicle Color\") \\\n",
    "                          .count() \\\n",
    "                          .withColumnRenamed(\"count\", \"Number Of Violations\") \\\n",
    "                          .orderBy(col(\"Number Of Violations\").desc())\n",
    "\n",
    "# Display the top 20 vehicle colors by number of violations\n",
    "q4.show(20)\n",
    "\n",
    "print(f\"The color of vehicle that is most likely to get a ticket is: \", q4.select(\"Vehicle Color\").collect()[0]['Vehicle Color'])"
   ]
  },
  {
   "cell_type": "markdown",
   "id": "e119d0ab-7bcb-475c-8ae8-5416ad700e0d",
   "metadata": {},
   "source": [
    "# KNN\n",
    "\n",
    "## Given a Black vehicle parking illegally at 34510, 10030, 34050 (street codes). What is the probability that it will get an ticket? (very rough prediction)\n"
   ]
  },
  {
   "cell_type": "code",
   "execution_count": 26,
   "id": "c18491bf-65d7-4c2b-9ae8-c47c3ab9f5cb",
   "metadata": {},
   "outputs": [],
   "source": [
    "parking_df = df.selectExpr(\"CAST(`Street Code1` AS FLOAT) AS Street_Code1\",\n",
    "                           \"CAST(`Street Code2` AS FLOAT) AS Street_Code2\",\n",
    "                           \"CAST(`Street Code3` AS FLOAT) AS Street_Code3\",\n",
    "                           \"`Vehicle Color`\")\n",
    "\n",
    "# Initialize VectorAssembler\n",
    "vector_assembler = VectorAssembler(inputCols=[\"Street_Code1\", \"Street_Code2\", \"Street_Code3\"],\n",
    "                                   outputCol=\"shooting_target_matrix\")\n",
    "\n",
    "parking_df = vector_assembler.transform(parking_df)"
   ]
  },
  {
   "cell_type": "code",
   "execution_count": 27,
   "id": "95150963-f2df-4e4e-8087-85c6394115e9",
   "metadata": {},
   "outputs": [
    {
     "name": "stdout",
     "output_type": "stream",
     "text": [
      "+------------+------------+------------+-------------+--------------------+----------+\n",
      "|Street_Code1|Street_Code2|Street_Code3|Vehicle Color|            features|prediction|\n",
      "+------------+------------+------------+-------------+--------------------+----------+\n",
      "|         0.0|         0.0|         0.0|         BLUE|           (3,[],[])|         1|\n",
      "|     17870.0|     25390.0|     32670.0|         GRAY|[17870.0,25390.0,...|         0|\n",
      "|     17870.0|     25390.0|     32670.0|         GRAY|[17870.0,25390.0,...|         0|\n",
      "|     12690.0|     41700.0|     61090.0|        WHITE|[12690.0,41700.0,...|         4|\n",
      "|     12690.0|     41700.0|     61090.0|        WHITE|[12690.0,41700.0,...|         4|\n",
      "|         0.0|         0.0|         0.0|           BK|           (3,[],[])|         1|\n",
      "|      8690.0|     21690.0|     21740.0|         NULL|[8690.0,21690.0,2...|         0|\n",
      "|         0.0|     61090.0|         0.0|          GRY|   [0.0,61090.0,0.0]|         0|\n",
      "|         0.0|         0.0|         0.0|          WHT|           (3,[],[])|         1|\n",
      "|         0.0|     40404.0|     40404.0|         BLUE|[0.0,40404.0,4040...|         0|\n",
      "|     59590.0|      9440.0|         0.0|         GREY|[59590.0,9440.0,0.0]|         2|\n",
      "|     37890.0|     51290.0|     51895.0|        WHITE|[37890.0,51290.0,...|         3|\n",
      "|     24090.0|     10290.0|     52490.0|          BLK|[24090.0,10290.0,...|         4|\n",
      "|     23840.0|     57790.0|     42120.0|          RED|[23840.0,57790.0,...|         3|\n",
      "|     28940.0|      9690.0|     57790.0|         GOLD|[28940.0,9690.0,5...|         4|\n",
      "|     21790.0|      5940.0|         0.0|         BLUE|[21790.0,5940.0,0.0]|         1|\n",
      "|     36400.0|     24240.0|     46090.0|         NULL|[36400.0,24240.0,...|         4|\n",
      "|      8440.0|     65490.0|     58590.0|          BLK|[8440.0,65490.0,5...|         3|\n",
      "|      6190.0|     23090.0|     23190.0|           WH|[6190.0,23090.0,2...|         0|\n",
      "|      8590.0|     53390.0|     65490.0|           RD|[8590.0,53390.0,6...|         4|\n",
      "+------------+------------+------------+-------------+--------------------+----------+\n",
      "only showing top 20 rows\n",
      "\n"
     ]
    }
   ],
   "source": [
    "# Define the K-means model\n",
    "# Set the number of clusters to 3 and a seed for reproducibility\n",
    "# Tried with Cluster 3 but results were not good, so I am using cluster 5\n",
    "kmeans = KMeans().setK(5).setSeed(1)  \n",
    "\n",
    "# Fit the model\n",
    "model = kmeans.fit(parking_df)\n",
    "\n",
    "# Make predictions\n",
    "predictions = model.transform(parking_df)\n",
    "\n",
    "# Show the results\n",
    "predictions.show()"
   ]
  },
  {
   "cell_type": "code",
   "execution_count": 36,
   "id": "79dd5e38-a8ce-4575-9637-635be5503784",
   "metadata": {},
   "outputs": [
    {
     "name": "stdout",
     "output_type": "stream",
     "text": [
      "+----------+-----------+----------+-------------------+\n",
      "|prediction|Count_Black|Total_Cars|  Probability_Black|\n",
      "+----------+-----------+----------+-------------------+\n",
      "|         0|     394032|   2723473|0.14467997296099502|\n",
      "|         1|    1153169|   4924934|0.23414912768374155|\n",
      "|         2|     132451|    760911| 0.1740689778436637|\n",
      "|         3|     125919|    692084|0.18194178741308858|\n",
      "|         4|     107040|    600959| 0.1781153123590794|\n",
      "+----------+-----------+----------+-------------------+\n",
      "\n"
     ]
    }
   ],
   "source": [
    "# list of all Black colors\n",
    "veh_black = ['BLK', 'BK.', 'BCK', 'BK', 'BLK.', 'Black', 'BC', 'BLAC', 'BK/', 'B LAC']\n",
    "\n",
    "# Group by 'prediction', calculate the count of black vehicles, total cars, and directly calculate the probability\n",
    "prob_black = predictions.groupBy('prediction').agg(\n",
    "    count(when(col('Vehicle Color').isin(veh_black), True)).alias('Count_Black'),\n",
    "    count('Vehicle Color').alias('Total_Cars'),\n",
    "    (count(when(col('Vehicle Color').isin(veh_black), True)) / count('Vehicle Color')).alias('Probability_Black')\n",
    ").orderBy('prediction')\n",
    "\n",
    "# Display the result\n",
    "prob_black.show()"
   ]
  },
  {
   "cell_type": "code",
   "execution_count": 37,
   "id": "ebc6db0b-0edc-4667-bd5a-62542b98c74d",
   "metadata": {},
   "outputs": [],
   "source": [
    "from scipy.spatial import distance\n",
    "\n",
    "# find the nearest cluster\n",
    "def nearest_cluster(data_point, cluster_centers):\n",
    "    # Calculate distances using Euclidean distance squared\n",
    "    distances = distance.cdist([data_point], cluster_centers, 'sqeuclidean')[0]\n",
    "    # Return the index (ID) of the nearest cluster center\n",
    "    return np.argmin(distances)\n"
   ]
  },
  {
   "cell_type": "code",
   "execution_count": 38,
   "id": "fb1dd017-dc2d-43fe-b5d3-39840f037ae8",
   "metadata": {},
   "outputs": [
    {
     "name": "stdout",
     "output_type": "stream",
     "text": [
      "Cluster id for Street Code (34510, 10030, 34050) is: 0\n"
     ]
    }
   ],
   "source": [
    "cluster_centers = np.array(model.clusterCenters()).astype(float)\n",
    "street_codes = np.array([34510.0, 10030.0, 34050.0])\n",
    "cluster_id = nearest_cluster(street_codes, cluster_centers)\n",
    "\n",
    "print('Cluster id for Street Code (34510, 10030, 34050) is:', cluster_id)"
   ]
  },
  {
   "cell_type": "code",
   "execution_count": 39,
   "id": "6b40db0b-dd98-4931-ae97-6b4b3c901f42",
   "metadata": {},
   "outputs": [
    {
     "name": "stdout",
     "output_type": "stream",
     "text": [
      "+----------+-----------+----------+-------------------+\n",
      "|prediction|Count_Black|Total_Cars|  Probability_Black|\n",
      "+----------+-----------+----------+-------------------+\n",
      "|         0|     394032|   2723473|0.14467997296099502|\n",
      "+----------+-----------+----------+-------------------+\n",
      "\n",
      "The Probability of Black color vehicle issued a ticket parking illegally at 34510, 10030, 34050 (street codes) is  0.14467997296099502\n"
     ]
    }
   ],
   "source": [
    "# Displaying the required probability\n",
    "prob_black.filter(col('prediction') == cluster_id).show()\n",
    "probability_black = prob_black.filter(col('prediction') == cluster_id).select(\"Probability_Black\").collect()\n",
    "print(f\"The Probability of Black color vehicle issued a ticket parking illegally at 34510, 10030, 34050 (street codes) is \", probability_black[0][\"Probability_Black\"])"
   ]
  },
  {
   "cell_type": "markdown",
   "id": "f999a271-f091-47b7-af13-c2f6007de530",
   "metadata": {},
   "source": [
    "# NBA SHOT LOGS\n",
    "\n",
    "## Question 1:\n",
    "\n",
    "### For each pair of the players (A, B), we define the fear sore of A when facing B is the hit rate, such that B is closet defender when A is shooting. Based on the fear sore, for each player, please find out who is his ?most unwanted defender?"
   ]
  },
  {
   "cell_type": "code",
   "execution_count": 159,
   "id": "4ac0224b-090d-47ba-ac98-160120516b2a",
   "metadata": {},
   "outputs": [
    {
     "name": "stdout",
     "output_type": "stream",
     "text": [
      "root\n",
      " |-- GAME_ID: integer (nullable = true)\n",
      " |-- MATCHUP: string (nullable = true)\n",
      " |-- LOCATION: string (nullable = true)\n",
      " |-- W: string (nullable = true)\n",
      " |-- FINAL_MARGIN: integer (nullable = true)\n",
      " |-- SHOT_NUMBER: integer (nullable = true)\n",
      " |-- PERIOD: integer (nullable = true)\n",
      " |-- GAME_CLOCK: timestamp (nullable = true)\n",
      " |-- SHOT_CLOCK: double (nullable = true)\n",
      " |-- DRIBBLES: integer (nullable = true)\n",
      " |-- TOUCH_TIME: double (nullable = true)\n",
      " |-- SHOT_DIST: double (nullable = true)\n",
      " |-- PTS_TYPE: integer (nullable = true)\n",
      " |-- SHOT_RESULT: string (nullable = true)\n",
      " |-- CLOSEST_DEFENDER: string (nullable = true)\n",
      " |-- CLOSEST_DEFENDER_PLAYER_ID: integer (nullable = true)\n",
      " |-- CLOSE_DEF_DIST: double (nullable = true)\n",
      " |-- FGM: integer (nullable = true)\n",
      " |-- PTS: integer (nullable = true)\n",
      " |-- player_name: string (nullable = true)\n",
      " |-- player_id: integer (nullable = true)\n",
      "\n"
     ]
    }
   ],
   "source": [
    "nba_shots_log = spark.read.csv(\"shot_logs.csv\", header=True, inferSchema=True)\n",
    "\n",
    "# printing schema details\n",
    "nba_shots_log.printSchema()"
   ]
  },
  {
   "cell_type": "code",
   "execution_count": 160,
   "id": "1ec8b8ae-f911-4f9a-8705-36659d9d5d84",
   "metadata": {},
   "outputs": [
    {
     "name": "stdout",
     "output_type": "stream",
     "text": [
      "+--------+--------------------+--------+---+------------+-----------+------+-------------------+----------+--------+----------+---------+--------+-----------+-----------------+--------------------------+--------------+---+---+-------------+---------+\n",
      "| GAME_ID|             MATCHUP|LOCATION|  W|FINAL_MARGIN|SHOT_NUMBER|PERIOD|         GAME_CLOCK|SHOT_CLOCK|DRIBBLES|TOUCH_TIME|SHOT_DIST|PTS_TYPE|SHOT_RESULT| CLOSEST_DEFENDER|CLOSEST_DEFENDER_PLAYER_ID|CLOSE_DEF_DIST|FGM|PTS|  player_name|player_id|\n",
      "+--------+--------------------+--------+---+------------+-----------+------+-------------------+----------+--------+----------+---------+--------+-----------+-----------------+--------------------------+--------------+---+---+-------------+---------+\n",
      "|21400899|MAR 04, 2015 - CH...|       A|  W|          24|          1|     1|2024-04-12 01:09:00|      10.8|       2|       1.9|      7.7|       2|       made|   Anderson, Alan|                    101187|           1.3|  1|  2|brian roberts|   203148|\n",
      "|21400899|MAR 04, 2015 - CH...|       A|  W|          24|          2|     1|2024-04-12 00:14:00|       3.4|       0|       0.8|     28.2|       3|     missed|Bogdanovic, Bojan|                    202711|           6.1|  0|  0|brian roberts|   203148|\n",
      "|21400899|MAR 04, 2015 - CH...|       A|  W|          24|          3|     1|2024-04-12 00:00:00|      NULL|       3|       2.7|     10.1|       2|     missed|Bogdanovic, Bojan|                    202711|           0.9|  0|  0|brian roberts|   203148|\n",
      "|21400899|MAR 04, 2015 - CH...|       A|  W|          24|          4|     2|2024-04-12 11:47:00|      10.3|       2|       1.9|     17.2|       2|     missed|    Brown, Markel|                    203900|           3.4|  0|  0|brian roberts|   203148|\n",
      "|21400899|MAR 04, 2015 - CH...|       A|  W|          24|          5|     2|2024-04-12 10:34:00|      10.9|       2|       2.7|      3.7|       2|     missed|  Young, Thaddeus|                    201152|           1.1|  0|  0|brian roberts|   203148|\n",
      "|21400899|MAR 04, 2015 - CH...|       A|  W|          24|          6|     2|2024-04-12 08:15:00|       9.1|       2|       4.4|     18.4|       2|     missed|  Williams, Deron|                    101114|           2.6|  0|  0|brian roberts|   203148|\n",
      "|21400899|MAR 04, 2015 - CH...|       A|  W|          24|          7|     4|2024-04-12 10:15:00|      14.5|      11|       9.0|     20.7|       2|     missed|    Jack, Jarrett|                    101127|           6.1|  0|  0|brian roberts|   203148|\n",
      "|21400899|MAR 04, 2015 - CH...|       A|  W|          24|          8|     4|2024-04-12 08:00:00|       3.4|       3|       2.5|      3.5|       2|       made|   Plumlee, Mason|                    203486|           2.1|  1|  2|brian roberts|   203148|\n",
      "|21400899|MAR 04, 2015 - CH...|       A|  W|          24|          9|     4|2024-04-12 05:14:00|      12.4|       0|       0.8|     24.6|       3|     missed|   Morris, Darius|                    202721|           7.3|  0|  0|brian roberts|   203148|\n",
      "|21400890|MAR 03, 2015 - CH...|       H|  W|           1|          1|     2|2024-04-12 11:32:00|      17.4|       0|       1.1|     22.4|       3|     missed| Ellington, Wayne|                    201961|          19.8|  0|  0|brian roberts|   203148|\n",
      "|21400890|MAR 03, 2015 - CH...|       H|  W|           1|          2|     2|2024-04-12 06:30:00|      16.0|       8|       7.5|     24.5|       3|     missed|      Lin, Jeremy|                    202391|           4.7|  0|  0|brian roberts|   203148|\n",
      "|21400890|MAR 03, 2015 - CH...|       H|  W|           1|          3|     4|2024-04-12 11:32:00|      12.1|      14|      11.9|     14.6|       2|       made|      Lin, Jeremy|                    202391|           1.8|  1|  2|brian roberts|   203148|\n",
      "|21400890|MAR 03, 2015 - CH...|       H|  W|           1|          4|     4|2024-04-12 08:55:00|       4.3|       2|       2.9|      5.9|       2|       made|     Hill, Jordan|                    201941|           5.4|  1|  2|brian roberts|   203148|\n",
      "|21400882|MAR 01, 2015 - CH...|       A|  W|          15|          1|     4|2024-04-12 09:10:00|       4.4|       0|       0.8|     26.4|       3|     missed|    Green, Willie|                      2584|           4.4|  0|  0|brian roberts|   203148|\n",
      "|21400859|FEB 27, 2015 - CH...|       A|  L|          -8|          1|     1|2024-04-12 00:48:00|       6.8|       0|       0.5|     22.8|       3|     missed|    Smart, Marcus|                    203935|           5.3|  0|  0|brian roberts|   203148|\n",
      "|21400859|FEB 27, 2015 - CH...|       A|  L|          -8|          2|     2|2024-04-12 10:38:00|       6.4|       3|       2.7|     24.7|       3|       made|     Young, James|                    203923|           5.6|  1|  3|brian roberts|   203148|\n",
      "|21400859|FEB 27, 2015 - CH...|       A|  L|          -8|          3|     2|2024-04-12 08:27:00|      17.6|       6|       5.1|     25.0|       3|     missed|   Jerebko, Jonas|                    201973|           5.4|  0|  0|brian roberts|   203148|\n",
      "|21400859|FEB 27, 2015 - CH...|       A|  L|          -8|          4|     4|2024-04-12 10:55:00|       8.7|       1|       0.9|     25.6|       3|     missed|     Crowder, Jae|                    203109|           5.1|  0|  0|brian roberts|   203148|\n",
      "|21400859|FEB 27, 2015 - CH...|       A|  L|          -8|          5|     4|2024-04-12 10:29:00|      20.8|       0|       1.2|     24.2|       3|       made|   Thomas, Isaiah|                    202738|          11.1|  1|  3|brian roberts|   203148|\n",
      "|21400845|FEB 25, 2015 - CH...|       A|  W|          12|          1|     1|2024-04-12 03:35:00|      17.5|       2|       2.2|     25.4|       3|     missed|    Brooks, Aaron|                    201166|           3.5|  0|  0|brian roberts|   203148|\n",
      "+--------+--------------------+--------+---+------------+-----------+------+-------------------+----------+--------+----------+---------+--------+-----------+-----------------+--------------------------+--------------+---+---+-------------+---------+\n",
      "only showing top 20 rows\n",
      "\n"
     ]
    }
   ],
   "source": [
    "nba_shots_log.show()"
   ]
  },
  {
   "cell_type": "code",
   "execution_count": 161,
   "id": "a0837f55-76f4-4669-8b76-46a51531d65f",
   "metadata": {},
   "outputs": [],
   "source": [
    "# Creating a view for the nba dataset\n",
    "nba_shots_log.createOrReplaceTempView(\"nba_shot_view\")\n"
   ]
  },
  {
   "cell_type": "code",
   "execution_count": 168,
   "id": "492eb4ed-98fd-4ca8-aeb5-bf1af093111e",
   "metadata": {},
   "outputs": [
    {
     "name": "stdout",
     "output_type": "stream",
     "text": [
      "+----------+-------------------+----------+------------+\n",
      "|_Player_ID|Closest_Defender_ID|Made_Shots|Missed_Shots|\n",
      "+----------+-------------------+----------+------------+\n",
      "|    203148|             101179|         0|           1|\n",
      "|    202687|             201980|         1|           0|\n",
      "|      2744|               1717|         0|           2|\n",
      "|    203469|             202329|         1|           1|\n",
      "|    201945|             202322|         0|           3|\n",
      "|    202689|             202699|         6|           8|\n",
      "|    202689|             203924|         1|           0|\n",
      "|    203077|               2730|         1|           0|\n",
      "|    203077|             201584|         2|           0|\n",
      "|    202362|             201188|         2|           0|\n",
      "|    202330|             201978|         2|           1|\n",
      "|    202324|             203135|         1|           2|\n",
      "|    203957|               2617|         1|           0|\n",
      "|      2430|             203092|         3|           2|\n",
      "|      2430|             200770|         1|           0|\n",
      "|    202391|             202328|         0|           1|\n",
      "|    101179|             202390|         0|           1|\n",
      "|    201961|             203200|         1|           0|\n",
      "|    202325|             203498|         1|           4|\n",
      "|    203135|             201951|         1|           0|\n",
      "+----------+-------------------+----------+------------+\n",
      "only showing top 20 rows\n",
      "\n"
     ]
    }
   ],
   "source": [
    "# Grouping the dataframe by player and defender & displaying the shot stats i.e, shot made or shot missed\n",
    "from pyspark.sql import functions as F\n",
    "\n",
    "nba_grouped_df = nba_shots_log.groupBy(\"player_id\", \"CLOSEST_DEFENDER_PLAYER_ID\").agg(\n",
    "    F.sum(F.when(F.col(\"SHOT_RESULT\") == \"made\", 1).otherwise(0)).alias(\"Made_Shots\"),\n",
    "    F.sum(F.when(F.col(\"SHOT_RESULT\") == \"missed\", 1).otherwise(0)).alias(\"Missed_Shots\")\n",
    ").select(\n",
    "    F.col(\"player_id\").alias(\"_Player_ID\"),\n",
    "    F.col(\"CLOSEST_DEFENDER_PLAYER_ID\").alias(\"Closest_Defender_ID\"),\n",
    "    F.col(\"Made_Shots\"),\n",
    "    F.col(\"Missed_Shots\")\n",
    ")\n",
    "\n",
    "nba_grouped_df.show()"
   ]
  },
  {
   "cell_type": "code",
   "execution_count": 169,
   "id": "007eb7d9-4f7e-47e0-8f8b-0a2dc1f90b85",
   "metadata": {},
   "outputs": [
    {
     "name": "stdout",
     "output_type": "stream",
     "text": [
      "+----------+-------------------+----------+------------+-------------------+\n",
      "|_Player_ID|Closest_Defender_ID|Made_Shots|Missed_Shots|            HitRate|\n",
      "+----------+-------------------+----------+------------+-------------------+\n",
      "|    201945|             202322|         0|           3|                0.0|\n",
      "|    203082|             203490|         0|           1|                0.0|\n",
      "|    201600|             202324|         1|           3|               0.25|\n",
      "|    201155|             101145|         1|           4|                0.2|\n",
      "|    201143|             202700|         7|           2| 0.7777777777777778|\n",
      "|    202330|             201967|         2|           7| 0.2222222222222222|\n",
      "|    202681|             202689|        11|          17|0.39285714285714285|\n",
      "|    201600|             201579|         2|           4| 0.3333333333333333|\n",
      "|    202322|             201565|        13|          16| 0.4482758620689655|\n",
      "|    101162|             201149|         8|           5| 0.6153846153846154|\n",
      "+----------+-------------------+----------+------------+-------------------+\n",
      "only showing top 10 rows\n",
      "\n"
     ]
    }
   ],
   "source": [
    " # Calculating the hit rate for each combination (player and defender)\n",
    "av = expr(\"Made_Shots / (Made_Shots + Missed_Shots)\")\n",
    "nba_grouped_df = nba_grouped_df.withColumn(\"HitRate\", av)\n",
    "\n",
    "FILTER = \"HitRate is NOT NULL\"\n",
    "# Droping duplicates & filtering out records with \"null\" hit rates\n",
    "nba_grouped_df = nba_grouped_df.dropDuplicates([\"_Player_ID\", \"HitRate\"]).filter(FILTER)\n",
    "nba_grouped_df.show(10)"
   ]
  },
  {
   "cell_type": "code",
   "execution_count": 170,
   "id": "0ad6afbf-ea82-4411-950f-f0d056e08c07",
   "metadata": {},
   "outputs": [
    {
     "name": "stdout",
     "output_type": "stream",
     "text": [
      "+----------+-------------------+--------+--------------------+--------+---+------------+-----------+------+-------------------+----------+--------+----------+---------+--------+-----------+------------------+--------------------------+--------------+---+---+--------------------+---------+\n",
      "|_Player_ID|Closest_Defender_ID| GAME_ID|             MATCHUP|LOCATION|  W|FINAL_MARGIN|SHOT_NUMBER|PERIOD|         GAME_CLOCK|SHOT_CLOCK|DRIBBLES|TOUCH_TIME|SHOT_DIST|PTS_TYPE|SHOT_RESULT|  CLOSEST_DEFENDER|CLOSEST_DEFENDER_PLAYER_ID|CLOSE_DEF_DIST|FGM|PTS|         player_name|player_id|\n",
      "+----------+-------------------+--------+--------------------+--------+---+------------+-----------+------+-------------------+----------+--------+----------+---------+--------+-----------+------------------+--------------------------+--------------+---+---+--------------------+---------+\n",
      "|    203148|             101179|21400097|NOV 09, 2014 - CH...|       A|  L|         -15|          3|     4|2024-04-12 08:04:00|      17.5|       6|       6.5|      9.4|       2|     missed|     Price, Ronnie|                    101179|           2.8|  0|  0|       brian roberts|   203148|\n",
      "|    202687|               2548|21400625|JAN 21, 2015 - CH...|       H|  W|           2|          6|     3|2024-04-12 06:34:00|      22.5|       0|       1.5|      3.7|       2|     missed|      Wade, Dwyane|                      2548|           1.8|  0|  0|     bismack biyombo|   202687|\n",
      "|      2744|               1717|21400827|FEB 22, 2015 - CH...|       A|  L|         -11|         14|     3|2024-04-12 01:44:00|      12.6|       0|       1.0|     15.1|       2|     missed|    Nowitzki, Dirk|                      1717|           6.9|  0|  0|        al jefferson|     2744|\n",
      "|      2744|               1717|21400146|NOV 17, 2014 - CH...|       H|  L|         -27|          9|     3|2024-04-12 09:54:00|      16.9|       0|       0.7|      8.5|       2|     missed|    Nowitzki, Dirk|                      1717|           3.9|  0|  0|        al jefferson|     2744|\n",
      "|    203469|             200746|21400210|NOV 26, 2014 - CH...|       H|  L|          -8|          8|     3|2024-04-12 11:02:00|      12.3|       1|       2.7|      5.6|       2|     missed|Aldridge, LaMarcus|                    200746|           2.1|  0|  0|         cody zeller|   203469|\n",
      "|    203469|             200746|21400210|NOV 26, 2014 - CH...|       H|  L|          -8|          9|     3|2024-04-12 10:31:00|      10.4|       0|       1.0|      4.6|       2|     missed|Aldridge, LaMarcus|                    200746|           1.7|  0|  0|         cody zeller|   203469|\n",
      "|    203469|             200746|21400210|NOV 26, 2014 - CH...|       H|  L|          -8|         10|     4|2024-04-12 02:33:00|      24.0|       0|       1.9|      0.4|       2|     missed|Aldridge, LaMarcus|                    200746|           2.6|  0|  0|         cody zeller|   203469|\n",
      "|    203469|             200746|21400107|NOV 11, 2014 - CH...|       A|  L|          -2|          2|     1|2024-04-12 01:41:00|       8.1|       0|       0.8|     21.1|       2|     missed|Aldridge, LaMarcus|                    200746|           6.4|  0|  0|         cody zeller|   203469|\n",
      "|    203469|             200746|21400107|NOV 11, 2014 - CH...|       A|  L|          -2|          4|     3|2024-04-12 02:05:00|      14.5|       0|       1.5|     20.4|       2|     missed|Aldridge, LaMarcus|                    200746|           7.8|  0|  0|         cody zeller|   203469|\n",
      "|    202390|             200777|21400107|NOV 11, 2014 - CH...|       A|  L|          -2|          3|     2|2024-04-12 08:37:00|      15.0|       1|       2.0|     22.6|       3|     missed|    Freeland, Joel|                    200777|           4.3|  0|  0|           gary neal|   202390|\n",
      "|    201945|             202322|21400742|FEB 05, 2015 - CH...|       H|  W|           7|          7|     1|2024-04-12 04:39:00|      11.3|       1|       2.2|     20.5|       2|     missed|        Wall, John|                    202322|           4.7|  0|  0|    gerald henderson|   201945|\n",
      "|    201945|             202322|21400742|FEB 05, 2015 - CH...|       H|  W|           7|          9|     3|2024-04-12 08:20:00|       1.2|       0|       0.9|     26.3|       3|     missed|        Wall, John|                    202322|           3.7|  0|  0|    gerald henderson|   201945|\n",
      "|    201945|             202322|21400719|FEB 02, 2015 - CH...|       A|  W|           4|         11|     3|2024-04-12 02:58:00|      14.2|       1|       2.6|     19.7|       2|     missed|        Wall, John|                    202322|           4.8|  0|  0|    gerald henderson|   201945|\n",
      "|    202689|             201579|21400160|NOV 19, 2014 - CH...|       A|  L|          -2|          8|     3|2024-04-12 06:42:00|      14.6|      10|       8.4|      1.3|       2|     missed|      Hibbert, Roy|                    201579|           1.7|  0|  0|        kemba walker|   202689|\n",
      "|    203077|               2550|21400845|FEB 25, 2015 - CH...|       A|  W|          12|          9|     3|2024-04-12 00:17:00|      NULL|       2|       2.9|      5.1|       2|     missed|     Hinrich, Kirk|                      2550|           2.6|  0|  0|michael kidd-gilc...|   203077|\n",
      "|    202362|             202391|21400097|NOV 09, 2014 - CH...|       A|  L|         -15|          6|     2|2024-04-12 00:06:00|      NULL|       0|       0.0|      2.5|       2|     missed|       Lin, Jeremy|                    202391|           0.7|  0|  0|    lance stephenson|   202362|\n",
      "|    101107|             200761|21400625|JAN 21, 2015 - CH...|       H|  W|           2|          2|     1|2024-04-12 03:29:00|      12.1|       0|       0.9|     19.9|       2|     missed|  Williams, Shawne|                    200761|           5.7|  0|  0|     marvin williams|   101107|\n",
      "|    101131|               1882|21400237|NOV 29, 2014 - CH...|       A|  L|         -30|          7|     4|2024-04-12 06:08:00|      17.3|       1|       1.3|      4.9|       2|     missed|      Brand, Elton|                      1882|           1.9|  0|  0|       jason maxiell|   101131|\n",
      "|    202330|             201965|21400836|FEB 23, 2015 - UT...|       H|  W|           9|         15|     4|2024-04-12 03:38:00|      11.5|       6|       5.6|      8.7|       2|     missed|       Ayres, Jeff|                    201965|           4.4|  0|  0|      gordon hayward|   202330|\n",
      "|    202344|               2544|21400626|JAN 21, 2015 - UT...|       A|  L|         -14|          2|     2|2024-04-12 08:58:00|       2.4|       1|       4.3|     18.6|       2|     missed|     James, LeBron|                      2544|           3.4|  0|  0|       trevor booker|   202344|\n",
      "+----------+-------------------+--------+--------------------+--------+---+------------+-----------+------+-------------------+----------+--------+----------+---------+--------+-----------+------------------+--------------------------+--------------+---+---+--------------------+---------+\n",
      "only showing top 20 rows\n",
      "\n"
     ]
    }
   ],
   "source": [
    "# Group by \"_Player_ID\"\n",
    "nba_grouped_by_player = nba_grouped_df.groupBy(\"_Player_ID\")\n",
    "\n",
    "# Aggregate to find the minimum \"HitRate\" for each group\n",
    "nba_min_hit_rate = nba_grouped_by_player.agg({\"HitRate\": \"min\"})\n",
    "\n",
    "# Rename the column \"min(HitRate)\" to \"HitRate\"\n",
    "nba_shots_log_final = nba_min_hit_rate.withColumnRenamed(\"min(HitRate)\", \"HitRate\")\n",
    "\n",
    "\n",
    "# Joining nba_grouped_df with nba_shots_log_final on columns \"_Player_ID\" and \"HitRate\"\n",
    "nba_joined_df = nba_grouped_df.join(nba_shots_log_final, [\"_Player_ID\", \"HitRate\"])\n",
    "\n",
    "# Dropping the \"HitRate\" column\n",
    "nba_grouped_df = nba_joined_df.drop(\"HitRate\")\n",
    "\n",
    "# Selecting only \"_Player_ID\" and \"Closest_Defender_ID\" columns\n",
    "nba_grouped_df = nba_grouped_df.select(\"_Player_ID\", \"Closest_Defender_ID\")\n",
    "\n",
    "\n",
    "# Joining nba_grouped_df with nba_shots_log based on matching player IDs and defender IDs\n",
    "nba_shots_log_merged = (\n",
    "    nba_grouped_df\n",
    "    .join(\n",
    "        nba_shots_log,\n",
    "        (nba_grouped_df[\"_Player_ID\"] == nba_shots_log[\"player_id\"]) & \n",
    "        (nba_grouped_df[\"Closest_Defender_ID\"] == nba_shots_log[\"CLOSEST_DEFENDER_PLAYER_ID\"])\n",
    "    )\n",
    ")\n",
    "\n",
    "# Show the merged DataFrame\n",
    "nba_shots_log_merged.show()"
   ]
  },
  {
   "cell_type": "code",
   "execution_count": 100,
   "id": "2ff81b93-ce2a-489a-a385-66be4187f605",
   "metadata": {},
   "outputs": [
    {
     "name": "stdout",
     "output_type": "stream",
     "text": [
      "+---------+-------------------+--------------+----------------------+\n",
      "|Player ID|Closest Defender ID|   Player Name|Most Unwanted Defender|\n",
      "+---------+-------------------+--------------+----------------------+\n",
      "|      708|             203957| kevin garnett|           Exum, Dante|\n",
      "|      977|             203937|   kobe bryant|        Anderson, Kyle|\n",
      "|     1495|             203148|    tim duncan|        Roberts, Brian|\n",
      "|     1713|               2037|  vince carter|       Crawford, Jamal|\n",
      "|     1717|             201581|dirk nowtizski|           Hickson, JJ|\n",
      "|     1718|             203079|   paul pierce|         Waiters, Dion|\n",
      "|     1889|             201168|  andre miller|       Splitter, Tiago|\n",
      "|     1890|             201229|  shawn marion|     Tolliver, Anthony|\n",
      "|     1891|             201572|   jason terry|          Lopez, Brook|\n",
      "|     1938|             203461| manu ginobili|      Bennett, Anthony|\n",
      "+---------+-------------------+--------------+----------------------+\n",
      "\n"
     ]
    }
   ],
   "source": [
    "# Grouping & selecting the columns that would answer the question\n",
    "nba_shots_log_final = nba_shots_log_merged.groupBy(\"_Player_ID\", \"Closest_Defender_ID\").agg(first(\"player_name\").alias(\"Player Name\"), first(\"CLOSEST_DEFENDER\").alias(\"Most Unwanted Defender\")) \\\n",
    "                    .orderBy(\"_Player_ID\") \\\n",
    "                    .limit(10).select(\n",
    "                        F.col(\"_Player_ID\").alias(\"Player ID\"),\n",
    "                        F.col(\"Closest_Defender_ID\").alias(\"Closest Defender ID\"),\n",
    "                        F.col(\"Player Name\"),\n",
    "                        F.col(\"Most Unwanted Defender\")\n",
    "                    )\n",
    "\n",
    "nba_shots_log_final.show()"
   ]
  },
  {
   "cell_type": "markdown",
   "id": "941b08a7-2f85-414e-bf21-0b7287a04be3",
   "metadata": {},
   "source": [
    "## Question 2:\n",
    "\n",
    "### For each player, we define the comfortable zone of shooting is a matrix of, \n",
    "### {SHOT DIST, CLOSE DEF DIST, SHOT CLOCK} \n",
    "### Please develop a Spark-based algorithm to classify each player?s records into 4 comfortable zones. Considering the hit rate, which zone is the best for **James Harden, Chris Paul, Stephen Curry, and Lebron James**"
   ]
  },
  {
   "cell_type": "code",
   "execution_count": 126,
   "id": "5b879f01-a183-4a30-a557-aa6925331688",
   "metadata": {},
   "outputs": [],
   "source": [
    "# Drop rows with null values\n",
    "# convert the shot result values\n",
    "# made = 1\n",
    "# missed = 0\n",
    "nba_shots_log = nba_shots_log.na.drop().withColumn(\"SHOT_RESULT\", when(col(\"SHOT_RESULT\") == \"made\", 1).otherwise(0))"
   ]
  },
  {
   "cell_type": "code",
   "execution_count": 127,
   "id": "4343ed87-a276-4f8c-a05e-9f9b5aa5fc28",
   "metadata": {},
   "outputs": [
    {
     "name": "stdout",
     "output_type": "stream",
     "text": [
      "+--------+--------------------+--------+---+------------+-----------+------+-------------------+----------+--------+----------+---------+--------+-----------+-----------------+--------------------------+--------------+---+---+-------------+---------+\n",
      "| GAME_ID|             MATCHUP|LOCATION|  W|FINAL_MARGIN|SHOT_NUMBER|PERIOD|         GAME_CLOCK|SHOT_CLOCK|DRIBBLES|TOUCH_TIME|SHOT_DIST|PTS_TYPE|SHOT_RESULT| CLOSEST_DEFENDER|CLOSEST_DEFENDER_PLAYER_ID|CLOSE_DEF_DIST|FGM|PTS|  player_name|player_id|\n",
      "+--------+--------------------+--------+---+------------+-----------+------+-------------------+----------+--------+----------+---------+--------+-----------+-----------------+--------------------------+--------------+---+---+-------------+---------+\n",
      "|21400899|MAR 04, 2015 - CH...|       A|  W|          24|          1|     1|2024-04-12 01:09:00|      10.8|       2|       1.9|      7.7|       2|          1|   Anderson, Alan|                    101187|           1.3|  1|  2|brian roberts|   203148|\n",
      "|21400899|MAR 04, 2015 - CH...|       A|  W|          24|          2|     1|2024-04-12 00:14:00|       3.4|       0|       0.8|     28.2|       3|          0|Bogdanovic, Bojan|                    202711|           6.1|  0|  0|brian roberts|   203148|\n",
      "|21400899|MAR 04, 2015 - CH...|       A|  W|          24|          4|     2|2024-04-12 11:47:00|      10.3|       2|       1.9|     17.2|       2|          0|    Brown, Markel|                    203900|           3.4|  0|  0|brian roberts|   203148|\n",
      "|21400899|MAR 04, 2015 - CH...|       A|  W|          24|          5|     2|2024-04-12 10:34:00|      10.9|       2|       2.7|      3.7|       2|          0|  Young, Thaddeus|                    201152|           1.1|  0|  0|brian roberts|   203148|\n",
      "|21400899|MAR 04, 2015 - CH...|       A|  W|          24|          6|     2|2024-04-12 08:15:00|       9.1|       2|       4.4|     18.4|       2|          0|  Williams, Deron|                    101114|           2.6|  0|  0|brian roberts|   203148|\n",
      "|21400899|MAR 04, 2015 - CH...|       A|  W|          24|          7|     4|2024-04-12 10:15:00|      14.5|      11|       9.0|     20.7|       2|          0|    Jack, Jarrett|                    101127|           6.1|  0|  0|brian roberts|   203148|\n",
      "|21400899|MAR 04, 2015 - CH...|       A|  W|          24|          8|     4|2024-04-12 08:00:00|       3.4|       3|       2.5|      3.5|       2|          1|   Plumlee, Mason|                    203486|           2.1|  1|  2|brian roberts|   203148|\n",
      "|21400899|MAR 04, 2015 - CH...|       A|  W|          24|          9|     4|2024-04-12 05:14:00|      12.4|       0|       0.8|     24.6|       3|          0|   Morris, Darius|                    202721|           7.3|  0|  0|brian roberts|   203148|\n",
      "|21400890|MAR 03, 2015 - CH...|       H|  W|           1|          1|     2|2024-04-12 11:32:00|      17.4|       0|       1.1|     22.4|       3|          0| Ellington, Wayne|                    201961|          19.8|  0|  0|brian roberts|   203148|\n",
      "|21400890|MAR 03, 2015 - CH...|       H|  W|           1|          2|     2|2024-04-12 06:30:00|      16.0|       8|       7.5|     24.5|       3|          0|      Lin, Jeremy|                    202391|           4.7|  0|  0|brian roberts|   203148|\n",
      "|21400890|MAR 03, 2015 - CH...|       H|  W|           1|          3|     4|2024-04-12 11:32:00|      12.1|      14|      11.9|     14.6|       2|          1|      Lin, Jeremy|                    202391|           1.8|  1|  2|brian roberts|   203148|\n",
      "|21400890|MAR 03, 2015 - CH...|       H|  W|           1|          4|     4|2024-04-12 08:55:00|       4.3|       2|       2.9|      5.9|       2|          1|     Hill, Jordan|                    201941|           5.4|  1|  2|brian roberts|   203148|\n",
      "|21400882|MAR 01, 2015 - CH...|       A|  W|          15|          1|     4|2024-04-12 09:10:00|       4.4|       0|       0.8|     26.4|       3|          0|    Green, Willie|                      2584|           4.4|  0|  0|brian roberts|   203148|\n",
      "|21400859|FEB 27, 2015 - CH...|       A|  L|          -8|          1|     1|2024-04-12 00:48:00|       6.8|       0|       0.5|     22.8|       3|          0|    Smart, Marcus|                    203935|           5.3|  0|  0|brian roberts|   203148|\n",
      "|21400859|FEB 27, 2015 - CH...|       A|  L|          -8|          2|     2|2024-04-12 10:38:00|       6.4|       3|       2.7|     24.7|       3|          1|     Young, James|                    203923|           5.6|  1|  3|brian roberts|   203148|\n",
      "|21400859|FEB 27, 2015 - CH...|       A|  L|          -8|          3|     2|2024-04-12 08:27:00|      17.6|       6|       5.1|     25.0|       3|          0|   Jerebko, Jonas|                    201973|           5.4|  0|  0|brian roberts|   203148|\n",
      "|21400859|FEB 27, 2015 - CH...|       A|  L|          -8|          4|     4|2024-04-12 10:55:00|       8.7|       1|       0.9|     25.6|       3|          0|     Crowder, Jae|                    203109|           5.1|  0|  0|brian roberts|   203148|\n",
      "|21400859|FEB 27, 2015 - CH...|       A|  L|          -8|          5|     4|2024-04-12 10:29:00|      20.8|       0|       1.2|     24.2|       3|          1|   Thomas, Isaiah|                    202738|          11.1|  1|  3|brian roberts|   203148|\n",
      "|21400845|FEB 25, 2015 - CH...|       A|  W|          12|          1|     1|2024-04-12 03:35:00|      17.5|       2|       2.2|     25.4|       3|          0|    Brooks, Aaron|                    201166|           3.5|  0|  0|brian roberts|   203148|\n",
      "|21400845|FEB 25, 2015 - CH...|       A|  W|          12|          2|     1|2024-04-12 00:33:00|      19.5|       5|       4.4|     19.1|       2|          1|    Hinrich, Kirk|                      2550|           4.0|  1|  2|brian roberts|   203148|\n",
      "+--------+--------------------+--------+---+------------+-----------+------+-------------------+----------+--------+----------+---------+--------+-----------+-----------------+--------------------------+--------------+---+---+-------------+---------+\n",
      "only showing top 20 rows\n",
      "\n"
     ]
    }
   ],
   "source": [
    "nba_shots_log.show()"
   ]
  },
  {
   "cell_type": "code",
   "execution_count": 128,
   "id": "9cb6909b-ed22-4eb0-8b09-569d959f2024",
   "metadata": {},
   "outputs": [
    {
     "name": "stdout",
     "output_type": "stream",
     "text": [
      "+--------+--------------------+--------+---+------------+-----------+------+-------------------+----------+--------+----------+---------+--------+-----------+-----------------+--------------------------+--------------+---+---+-------------+---------+\n",
      "| GAME_ID|             MATCHUP|LOCATION|  W|FINAL_MARGIN|SHOT_NUMBER|PERIOD|         GAME_CLOCK|SHOT_CLOCK|DRIBBLES|TOUCH_TIME|SHOT_DIST|PTS_TYPE|SHOT_RESULT| CLOSEST_DEFENDER|CLOSEST_DEFENDER_PLAYER_ID|CLOSE_DEF_DIST|FGM|PTS|  player_name|player_id|\n",
      "+--------+--------------------+--------+---+------------+-----------+------+-------------------+----------+--------+----------+---------+--------+-----------+-----------------+--------------------------+--------------+---+---+-------------+---------+\n",
      "|21400899|MAR 04, 2015 - CH...|       A|  W|          24|          1|     1|2024-04-12 01:09:00|      10.8|       2|       1.9|      7.7|       2|          1|   Anderson, Alan|                    101187|           1.3|  1|  2|brian roberts|   203148|\n",
      "|21400899|MAR 04, 2015 - CH...|       A|  W|          24|          2|     1|2024-04-12 00:14:00|       3.4|       0|       0.8|     28.2|       3|          0|Bogdanovic, Bojan|                    202711|           6.1|  0|  0|brian roberts|   203148|\n",
      "|21400899|MAR 04, 2015 - CH...|       A|  W|          24|          4|     2|2024-04-12 11:47:00|      10.3|       2|       1.9|     17.2|       2|          0|    Brown, Markel|                    203900|           3.4|  0|  0|brian roberts|   203148|\n",
      "|21400899|MAR 04, 2015 - CH...|       A|  W|          24|          5|     2|2024-04-12 10:34:00|      10.9|       2|       2.7|      3.7|       2|          0|  Young, Thaddeus|                    201152|           1.1|  0|  0|brian roberts|   203148|\n",
      "|21400899|MAR 04, 2015 - CH...|       A|  W|          24|          6|     2|2024-04-12 08:15:00|       9.1|       2|       4.4|     18.4|       2|          0|  Williams, Deron|                    101114|           2.6|  0|  0|brian roberts|   203148|\n",
      "|21400899|MAR 04, 2015 - CH...|       A|  W|          24|          7|     4|2024-04-12 10:15:00|      14.5|      11|       9.0|     20.7|       2|          0|    Jack, Jarrett|                    101127|           6.1|  0|  0|brian roberts|   203148|\n",
      "|21400899|MAR 04, 2015 - CH...|       A|  W|          24|          8|     4|2024-04-12 08:00:00|       3.4|       3|       2.5|      3.5|       2|          1|   Plumlee, Mason|                    203486|           2.1|  1|  2|brian roberts|   203148|\n",
      "|21400899|MAR 04, 2015 - CH...|       A|  W|          24|          9|     4|2024-04-12 05:14:00|      12.4|       0|       0.8|     24.6|       3|          0|   Morris, Darius|                    202721|           7.3|  0|  0|brian roberts|   203148|\n",
      "|21400890|MAR 03, 2015 - CH...|       H|  W|           1|          1|     2|2024-04-12 11:32:00|      17.4|       0|       1.1|     22.4|       3|          0| Ellington, Wayne|                    201961|          19.8|  0|  0|brian roberts|   203148|\n",
      "|21400890|MAR 03, 2015 - CH...|       H|  W|           1|          2|     2|2024-04-12 06:30:00|      16.0|       8|       7.5|     24.5|       3|          0|      Lin, Jeremy|                    202391|           4.7|  0|  0|brian roberts|   203148|\n",
      "+--------+--------------------+--------+---+------------+-----------+------+-------------------+----------+--------+----------+---------+--------+-----------+-----------------+--------------------------+--------------+---+---+-------------+---------+\n",
      "only showing top 10 rows\n",
      "\n"
     ]
    }
   ],
   "source": [
    "# Assignment of shooting_target_matrix as given in the question\n",
    "shooting_target_matrix = [\"SHOT_DIST\",\n",
    "                          \"CLOSE_DEF_DIST\",\n",
    "                          \"SHOT_CLOCK\"]\n",
    "\n",
    "# Convert columns to float data type\n",
    "for col_name in shooting_target_matrix:\n",
    "    nba_shots_log = nba_shots_log.withColumn(col_name, col(col_name).cast(\"float\"))\n",
    "\n",
    "# Show the DataFrame (10 rows)\n",
    "nba_shots_log.show(10)"
   ]
  },
  {
   "cell_type": "code",
   "execution_count": 129,
   "id": "e715ef29-64a6-42b2-a09b-76d73742e639",
   "metadata": {},
   "outputs": [
    {
     "name": "stdout",
     "output_type": "stream",
     "text": [
      "+-------------+----------------------+---------+\n",
      "|  player_name|shooting_target_matrix|SHOT FLAG|\n",
      "+-------------+----------------------+---------+\n",
      "|brian roberts|  [7.69999980926513...|      1.0|\n",
      "|brian roberts|  [28.2000007629394...|      0.0|\n",
      "|brian roberts|  [17.2000007629394...|      0.0|\n",
      "|brian roberts|  [3.70000004768371...|      0.0|\n",
      "|brian roberts|  [18.3999996185302...|      0.0|\n",
      "|brian roberts|  [20.7000007629394...|      0.0|\n",
      "|brian roberts|  [3.5,2.0999999046...|      1.0|\n",
      "|brian roberts|  [24.6000003814697...|      0.0|\n",
      "|brian roberts|  [22.3999996185302...|      0.0|\n",
      "|brian roberts|  [24.5,4.699999809...|      0.0|\n",
      "+-------------+----------------------+---------+\n",
      "only showing top 10 rows\n",
      "\n"
     ]
    }
   ],
   "source": [
    "\n",
    "# Create VectorAssembler to assemble the features into a vector\n",
    "# InputCols: List of column names to be assembled into a vector\n",
    "# OutputCol: Name of the output column containing the assembled vector\n",
    "\n",
    "# Transform the DataFrame using VectorAssembler\n",
    "# Select the 'player_name' column, the assembled 'shooting_target_matrix' column,\n",
    "# and cast 'SHOT_RESULT' column to float, alias it as 'SHOT FLAG'\n",
    "\n",
    "nba_shots_log_vec = VectorAssembler(inputCols=shooting_target_matrix, outputCol=\"shooting_target_matrix\") \\\n",
    "                    .transform(nba_shots_log) \\\n",
    "                    .select('player_name', 'shooting_target_matrix', col('SHOT_RESULT') \\\n",
    "                    .cast('float') \\\n",
    "                    .alias('SHOT FLAG'))\n",
    "\n",
    "# displayin the 10 rows\n",
    "nba_shots_log_vec.show(10)"
   ]
  },
  {
   "cell_type": "code",
   "execution_count": 130,
   "id": "6d9bb4ab-5709-4e70-829d-baa44f92f0df",
   "metadata": {},
   "outputs": [],
   "source": [
    "# Initialize and fit the KMeans model with four clusters\n",
    "nba_K_means = KMeans(k=4, seed=1, featuresCol=\"shooting_target_matrix\")\n",
    "\n",
    "# Fitting the model\n",
    "nba_K_model = nba_K_means.fit(nba_shots_log_vec)\n",
    "\n",
    "# Filter the DataFrame for specific players\n",
    "players = ['james harden', 'chris paul', 'stephen curry', 'lebron james']\n",
    "nba_shots_log_vec_filtered = nba_shots_log_vec.filter(col('player_name').isin(players))"
   ]
  },
  {
   "cell_type": "code",
   "execution_count": 131,
   "id": "0b03c317-d3eb-424b-92e4-d3de2f930c3d",
   "metadata": {},
   "outputs": [],
   "source": [
    "nba_shots_log_k_means = nba_K_model.transform(nba_shots_log_vec_filtered).select('player_name', 'prediction', 'SHOT FLAG')"
   ]
  },
  {
   "cell_type": "code",
   "execution_count": 142,
   "id": "22922097-6a7f-464e-85b0-66f25b3c1817",
   "metadata": {},
   "outputs": [
    {
     "name": "stdout",
     "output_type": "stream",
     "text": [
      "+-------------+----+-------------------+\n",
      "|  Player Name|Zone|SHOT RESULT AVERAGE|\n",
      "+-------------+----+-------------------+\n",
      "|   chris paul|   2| 0.5531914893617021|\n",
      "| james harden|   1| 0.5604395604395604|\n",
      "| lebron james|   1| 0.6613545816733067|\n",
      "|stephen curry|   1| 0.6350710900473934|\n",
      "+-------------+----+-------------------+\n",
      "\n"
     ]
    }
   ],
   "source": [
    "from pyspark.sql import functions as F\n",
    "from pyspark.sql.window import Window\n",
    "\n",
    "# Define a window specification to partition by player_name\n",
    "windowSpec = Window.partitionBy(\"player_name\")\n",
    "\n",
    "# Group by player_name and prediction, calculate the mean of SHOT FLAG, and sort the result\n",
    "players_zones = (\n",
    "    nba_shots_log_k_means\n",
    "    .groupBy(\"player_name\", F.col(\"prediction\").alias(\"Zone\"))\n",
    "    .agg(F.mean(\"SHOT FLAG\").alias(\"AVERAGE SHOT FLAG\"))\n",
    "    .withColumn('maxavg', F.max('AVERAGE SHOT FLAG').over(windowSpec))\n",
    "    .where(F.col('AVERAGE SHOT FLAG') == F.col('maxavg'))\n",
    "    .drop('maxavg')\n",
    "    .withColumnRenamed(\"player_name\", \"Player Name\")\n",
    "    .withColumnRenamed(\"AVERAGE SHOT FLAG\", \"SHOT RESULT AVERAGE\") \n",
    ")\n",
    "\n",
    "# Show the DataFrame\n",
    "players_zones.show()\n"
   ]
  },
  {
   "cell_type": "code",
   "execution_count": 143,
   "id": "540d2a01-f6f6-438e-b591-1a3bb1cee631",
   "metadata": {},
   "outputs": [],
   "source": [
    "# Stopping the Spark Cluster\n",
    "spark.stop()\n"
   ]
  },
  {
   "cell_type": "code",
   "execution_count": null,
   "id": "d3770a49-c049-4e94-859d-e93677eaf17d",
   "metadata": {},
   "outputs": [],
   "source": []
  }
 ],
 "metadata": {
  "kernelspec": {
   "display_name": "Python 3 (ipykernel)",
   "language": "python",
   "name": "python3"
  },
  "language_info": {
   "codemirror_mode": {
    "name": "ipython",
    "version": 3
   },
   "file_extension": ".py",
   "mimetype": "text/x-python",
   "name": "python",
   "nbconvert_exporter": "python",
   "pygments_lexer": "ipython3",
   "version": "3.11.6"
  }
 },
 "nbformat": 4,
 "nbformat_minor": 5
}
